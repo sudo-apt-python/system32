{
  "nbformat": 4,
  "nbformat_minor": 0,
  "metadata": {
    "colab": {
      "provenance": []
    },
    "kernelspec": {
      "name": "python3",
      "display_name": "Python 3"
    },
    "language_info": {
      "name": "python"
    }
  },
  "cells": [
    {
      "cell_type": "code",
      "execution_count": null,
      "metadata": {
        "id": "S4g2X6UpBZc9"
      },
      "outputs": [],
      "source": [
        "import numpy as np\n",
        "import pandas as pd\n",
        "from sklearn.datasets import load_iris\n",
        "from sklearn.preprocessing import StandardScaler, KBinsDiscretizer, MinMaxScaler\n",
        "from sklearn.model_selection import train_test_split\n",
        "import tensorflow as tf\n",
        "from tensorflow import keras\n",
        "from tensorflow.keras import layers\n"
      ]
    },
    {
      "cell_type": "code",
      "source": [
        "iris = load_iris()\n",
        "X = iris.data\n",
        "y = iris.target"
      ],
      "metadata": {
        "id": "g0VTNC3mBqtX"
      },
      "execution_count": null,
      "outputs": []
    },
    {
      "cell_type": "code",
      "source": [
        "iris = load_iris()\n",
        "X = iris.data\n",
        "y = iris.target"
      ],
      "metadata": {
        "id": "ngSs_vwuCgAJ"
      },
      "execution_count": null,
      "outputs": []
    },
    {
      "cell_type": "code",
      "source": [
        "iris_df = pd.DataFrame(data=np.c_[X, y], columns=iris.feature_names + ['target'])\n"
      ],
      "metadata": {
        "id": "qk1b4XNrCqUk"
      },
      "execution_count": null,
      "outputs": []
    },
    {
      "cell_type": "code",
      "source": [
        "print(\"Original Data:\")\n",
        "print(iris_df.head())"
      ],
      "metadata": {
        "colab": {
          "base_uri": "https://localhost:8080/"
        },
        "id": "1staRyw-Ctho",
        "outputId": "b0868fe2-1227-453c-d4c3-38a84f0fe0b0"
      },
      "execution_count": null,
      "outputs": [
        {
          "output_type": "stream",
          "name": "stdout",
          "text": [
            "Original Data:\n",
            "   sepal length (cm)  sepal width (cm)  petal length (cm)  petal width (cm)  \\\n",
            "0                5.1               3.5                1.4               0.2   \n",
            "1                4.9               3.0                1.4               0.2   \n",
            "2                4.7               3.2                1.3               0.2   \n",
            "3                4.6               3.1                1.5               0.2   \n",
            "4                5.0               3.6                1.4               0.2   \n",
            "\n",
            "   target  \n",
            "0     0.0  \n",
            "1     0.0  \n",
            "2     0.0  \n",
            "3     0.0  \n",
            "4     0.0  \n"
          ]
        }
      ]
    },
    {
      "cell_type": "code",
      "source": [
        "X_train, X_test, y_train, y_test = train_test_split(X, y, test_size=0.2, random_state=42)\n"
      ],
      "metadata": {
        "id": "rSaFcyZ8Cyyd"
      },
      "execution_count": null,
      "outputs": []
    },
    {
      "cell_type": "code",
      "source": [
        "scaler = StandardScaler()\n",
        "X_train_scaled = scaler.fit_transform(X_train)\n",
        "X_test_scaled = scaler.transform(X_test)\n"
      ],
      "metadata": {
        "id": "v11NyFaPC2ZN"
      },
      "execution_count": null,
      "outputs": []
    },
    {
      "cell_type": "code",
      "source": [
        "print(\"\\nStandardized Data:\")\n",
        "print(pd.DataFrame(X_train_scaled, columns=iris.feature_names).head())\n"
      ],
      "metadata": {
        "colab": {
          "base_uri": "https://localhost:8080/"
        },
        "id": "b6lzaBEeC7fv",
        "outputId": "ce9f41c2-824f-4510-ddb5-c182e0b3b41d"
      },
      "execution_count": null,
      "outputs": [
        {
          "output_type": "stream",
          "name": "stdout",
          "text": [
            "\n",
            "Standardized Data:\n",
            "   sepal length (cm)  sepal width (cm)  petal length (cm)  petal width (cm)\n",
            "0          -1.473937          1.203658          -1.562535         -1.312603\n",
            "1          -0.133071          2.992376          -1.276006         -1.045633\n",
            "2           1.085898          0.085709           0.385858          0.289218\n",
            "3          -1.230143          0.756479          -1.218701         -1.312603\n",
            "4          -1.717731          0.309299          -1.390618         -1.312603\n"
          ]
        }
      ]
    },
    {
      "cell_type": "code",
      "source": [
        "n_bins = 5\n",
        "encoder = KBinsDiscretizer(n_bins=n_bins, encode='ordinal', strategy='uniform')\n",
        "X_train_discretized = encoder.fit_transform(X_train_scaled)\n",
        "X_test_discretized = encoder.transform(X_test_scaled)\n"
      ],
      "metadata": {
        "id": "10sZK9a8C-d1"
      },
      "execution_count": null,
      "outputs": []
    },
    {
      "cell_type": "code",
      "source": [
        "print(\"\\nDiscretized Data:\")\n",
        "print(pd.DataFrame(X_train_discretized, columns=iris.feature_names).head())"
      ],
      "metadata": {
        "colab": {
          "base_uri": "https://localhost:8080/"
        },
        "id": "rshQnSyRDBrz",
        "outputId": "2507ac85-ca33-46d8-a799-308e98824f63"
      },
      "execution_count": null,
      "outputs": [
        {
          "output_type": "stream",
          "name": "stdout",
          "text": [
            "\n",
            "Discretized Data:\n",
            "   sepal length (cm)  sepal width (cm)  petal length (cm)  petal width (cm)\n",
            "0                0.0               3.0                0.0               0.0\n",
            "1                2.0               4.0                0.0               0.0\n",
            "2                3.0               2.0                2.0               2.0\n",
            "3                0.0               2.0                0.0               0.0\n",
            "4                0.0               2.0                0.0               0.0\n"
          ]
        }
      ]
    },
    {
      "cell_type": "code",
      "source": [
        "min_max_scaler = MinMaxScaler()\n",
        "X_train_normalized = min_max_scaler.fit_transform(X_train)\n",
        "X_test_normalized = min_max_scaler.transform(X_test)\n",
        "\n",
        "# Print the normalized data\n",
        "print(\"\\nNormalized Data:\")\n",
        "print(pd.DataFrame(X_train_normalized, columns=iris.feature_names).head())\n",
        "\n",
        "# Build an ANN model\n",
        "model = keras.Sequential([\n",
        "    layers.Input(shape=(X_train.shape[1],)),\n",
        "    layers.Dense(64, activation='relu'),\n",
        "    layers.Dense(3, activation='softmax')\n",
        "])\n",
        "\n",
        "# Compile the model\n",
        "model.compile(optimizer='adam', loss='sparse_categorical_crossentropy', metrics=['accuracy'])\n",
        "\n",
        "# Train the model\n",
        "model.fit(X_train_scaled, y_train, epochs=50, batch_size=32, validation_data=(X_test_scaled, y_test))\n",
        "\n",
        "# Evaluate the model on the test set\n",
        "test_loss, test_accuracy = model.evaluate(X_test_scaled, y_test)\n",
        "print(f\"Test Accuracy: {test_accuracy * 100:.2f}%\")\n"
      ],
      "metadata": {
        "colab": {
          "base_uri": "https://localhost:8080/"
        },
        "id": "1gcMUnxmDFtn",
        "outputId": "663de8ce-e1d9-4c3e-b53b-92fda6c97f38"
      },
      "execution_count": null,
      "outputs": [
        {
          "output_type": "stream",
          "name": "stdout",
          "text": [
            "\n",
            "Normalized Data:\n",
            "   sepal length (cm)  sepal width (cm)  petal length (cm)  petal width (cm)\n",
            "0           0.088235          0.666667           0.000000          0.041667\n",
            "1           0.411765          1.000000           0.087719          0.125000\n",
            "2           0.705882          0.458333           0.596491          0.541667\n",
            "3           0.147059          0.583333           0.105263          0.041667\n",
            "4           0.029412          0.500000           0.052632          0.041667\n",
            "Epoch 1/50\n",
            "4/4 [==============================] - 2s 126ms/step - loss: 1.1790 - accuracy: 0.2167 - val_loss: 1.0865 - val_accuracy: 0.3333\n",
            "Epoch 2/50\n",
            "4/4 [==============================] - 0s 23ms/step - loss: 1.0978 - accuracy: 0.3083 - val_loss: 1.0121 - val_accuracy: 0.5333\n",
            "Epoch 3/50\n",
            "4/4 [==============================] - 0s 24ms/step - loss: 1.0237 - accuracy: 0.5667 - val_loss: 0.9439 - val_accuracy: 0.7000\n",
            "Epoch 4/50\n",
            "4/4 [==============================] - 0s 33ms/step - loss: 0.9572 - accuracy: 0.6500 - val_loss: 0.8820 - val_accuracy: 0.7000\n",
            "Epoch 5/50\n",
            "4/4 [==============================] - 0s 24ms/step - loss: 0.9002 - accuracy: 0.6500 - val_loss: 0.8255 - val_accuracy: 0.7000\n",
            "Epoch 6/50\n",
            "4/4 [==============================] - 0s 24ms/step - loss: 0.8461 - accuracy: 0.6583 - val_loss: 0.7756 - val_accuracy: 0.7000\n",
            "Epoch 7/50\n",
            "4/4 [==============================] - 0s 28ms/step - loss: 0.8000 - accuracy: 0.6583 - val_loss: 0.7310 - val_accuracy: 0.7000\n",
            "Epoch 8/50\n",
            "4/4 [==============================] - 0s 27ms/step - loss: 0.7588 - accuracy: 0.6583 - val_loss: 0.6915 - val_accuracy: 0.7000\n",
            "Epoch 9/50\n",
            "4/4 [==============================] - 0s 28ms/step - loss: 0.7225 - accuracy: 0.6583 - val_loss: 0.6565 - val_accuracy: 0.7000\n",
            "Epoch 10/50\n",
            "4/4 [==============================] - 0s 53ms/step - loss: 0.6908 - accuracy: 0.6750 - val_loss: 0.6251 - val_accuracy: 0.7000\n",
            "Epoch 11/50\n",
            "4/4 [==============================] - 0s 63ms/step - loss: 0.6628 - accuracy: 0.6833 - val_loss: 0.5966 - val_accuracy: 0.7000\n",
            "Epoch 12/50\n",
            "4/4 [==============================] - 0s 50ms/step - loss: 0.6372 - accuracy: 0.6833 - val_loss: 0.5712 - val_accuracy: 0.7667\n",
            "Epoch 13/50\n",
            "4/4 [==============================] - 0s 20ms/step - loss: 0.6142 - accuracy: 0.7000 - val_loss: 0.5480 - val_accuracy: 0.8000\n",
            "Epoch 14/50\n",
            "4/4 [==============================] - 0s 25ms/step - loss: 0.5933 - accuracy: 0.7417 - val_loss: 0.5267 - val_accuracy: 0.8000\n",
            "Epoch 15/50\n",
            "4/4 [==============================] - 0s 21ms/step - loss: 0.5740 - accuracy: 0.7500 - val_loss: 0.5075 - val_accuracy: 0.8333\n",
            "Epoch 16/50\n",
            "4/4 [==============================] - 0s 40ms/step - loss: 0.5560 - accuracy: 0.7583 - val_loss: 0.4898 - val_accuracy: 0.8333\n",
            "Epoch 17/50\n",
            "4/4 [==============================] - 0s 30ms/step - loss: 0.5399 - accuracy: 0.7917 - val_loss: 0.4734 - val_accuracy: 0.8667\n",
            "Epoch 18/50\n",
            "4/4 [==============================] - 0s 24ms/step - loss: 0.5245 - accuracy: 0.8083 - val_loss: 0.4581 - val_accuracy: 0.8667\n",
            "Epoch 19/50\n",
            "4/4 [==============================] - 0s 24ms/step - loss: 0.5101 - accuracy: 0.8250 - val_loss: 0.4438 - val_accuracy: 0.8667\n",
            "Epoch 20/50\n",
            "4/4 [==============================] - 0s 32ms/step - loss: 0.4961 - accuracy: 0.8500 - val_loss: 0.4306 - val_accuracy: 0.8667\n",
            "Epoch 21/50\n",
            "4/4 [==============================] - 0s 17ms/step - loss: 0.4839 - accuracy: 0.8500 - val_loss: 0.4180 - val_accuracy: 0.9000\n",
            "Epoch 22/50\n",
            "4/4 [==============================] - 0s 44ms/step - loss: 0.4715 - accuracy: 0.8500 - val_loss: 0.4061 - val_accuracy: 0.9000\n",
            "Epoch 23/50\n",
            "4/4 [==============================] - 0s 60ms/step - loss: 0.4598 - accuracy: 0.8417 - val_loss: 0.3946 - val_accuracy: 0.9000\n",
            "Epoch 24/50\n",
            "4/4 [==============================] - 0s 69ms/step - loss: 0.4489 - accuracy: 0.8417 - val_loss: 0.3836 - val_accuracy: 0.9000\n",
            "Epoch 25/50\n",
            "4/4 [==============================] - 0s 33ms/step - loss: 0.4383 - accuracy: 0.8500 - val_loss: 0.3733 - val_accuracy: 0.9000\n",
            "Epoch 26/50\n",
            "4/4 [==============================] - 0s 25ms/step - loss: 0.4281 - accuracy: 0.8500 - val_loss: 0.3635 - val_accuracy: 0.9000\n",
            "Epoch 27/50\n",
            "4/4 [==============================] - 0s 29ms/step - loss: 0.4182 - accuracy: 0.8500 - val_loss: 0.3542 - val_accuracy: 0.9000\n",
            "Epoch 28/50\n",
            "4/4 [==============================] - 0s 54ms/step - loss: 0.4094 - accuracy: 0.8583 - val_loss: 0.3451 - val_accuracy: 0.9000\n",
            "Epoch 29/50\n",
            "4/4 [==============================] - 0s 41ms/step - loss: 0.4001 - accuracy: 0.8583 - val_loss: 0.3365 - val_accuracy: 0.9000\n",
            "Epoch 30/50\n",
            "4/4 [==============================] - 0s 50ms/step - loss: 0.3919 - accuracy: 0.8583 - val_loss: 0.3281 - val_accuracy: 0.9000\n",
            "Epoch 31/50\n",
            "4/4 [==============================] - 0s 37ms/step - loss: 0.3835 - accuracy: 0.8750 - val_loss: 0.3200 - val_accuracy: 0.9333\n",
            "Epoch 32/50\n",
            "4/4 [==============================] - 0s 47ms/step - loss: 0.3757 - accuracy: 0.8750 - val_loss: 0.3124 - val_accuracy: 0.9333\n",
            "Epoch 33/50\n",
            "4/4 [==============================] - 0s 46ms/step - loss: 0.3682 - accuracy: 0.8750 - val_loss: 0.3049 - val_accuracy: 0.9333\n",
            "Epoch 34/50\n",
            "4/4 [==============================] - 0s 40ms/step - loss: 0.3609 - accuracy: 0.8750 - val_loss: 0.2976 - val_accuracy: 0.9333\n",
            "Epoch 35/50\n",
            "4/4 [==============================] - 0s 35ms/step - loss: 0.3534 - accuracy: 0.9000 - val_loss: 0.2909 - val_accuracy: 0.9333\n",
            "Epoch 36/50\n",
            "4/4 [==============================] - 0s 52ms/step - loss: 0.3466 - accuracy: 0.9000 - val_loss: 0.2843 - val_accuracy: 0.9333\n",
            "Epoch 37/50\n",
            "4/4 [==============================] - 0s 92ms/step - loss: 0.3404 - accuracy: 0.9000 - val_loss: 0.2778 - val_accuracy: 0.9667\n",
            "Epoch 38/50\n",
            "4/4 [==============================] - 0s 32ms/step - loss: 0.3341 - accuracy: 0.9000 - val_loss: 0.2714 - val_accuracy: 0.9667\n",
            "Epoch 39/50\n",
            "4/4 [==============================] - 0s 44ms/step - loss: 0.3276 - accuracy: 0.8917 - val_loss: 0.2655 - val_accuracy: 0.9667\n",
            "Epoch 40/50\n",
            "4/4 [==============================] - 0s 48ms/step - loss: 0.3217 - accuracy: 0.8917 - val_loss: 0.2599 - val_accuracy: 0.9667\n",
            "Epoch 41/50\n",
            "4/4 [==============================] - 0s 56ms/step - loss: 0.3162 - accuracy: 0.9000 - val_loss: 0.2544 - val_accuracy: 0.9667\n",
            "Epoch 42/50\n",
            "4/4 [==============================] - 0s 88ms/step - loss: 0.3109 - accuracy: 0.9000 - val_loss: 0.2491 - val_accuracy: 0.9667\n",
            "Epoch 43/50\n",
            "4/4 [==============================] - 0s 119ms/step - loss: 0.3053 - accuracy: 0.9083 - val_loss: 0.2440 - val_accuracy: 0.9667\n",
            "Epoch 44/50\n",
            "4/4 [==============================] - 0s 118ms/step - loss: 0.3002 - accuracy: 0.9083 - val_loss: 0.2390 - val_accuracy: 0.9667\n",
            "Epoch 45/50\n",
            "4/4 [==============================] - 0s 110ms/step - loss: 0.2952 - accuracy: 0.9167 - val_loss: 0.2340 - val_accuracy: 0.9667\n",
            "Epoch 46/50\n",
            "4/4 [==============================] - 1s 488ms/step - loss: 0.2905 - accuracy: 0.9250 - val_loss: 0.2293 - val_accuracy: 0.9667\n",
            "Epoch 47/50\n",
            "4/4 [==============================] - 0s 59ms/step - loss: 0.2855 - accuracy: 0.9167 - val_loss: 0.2246 - val_accuracy: 0.9667\n",
            "Epoch 48/50\n",
            "4/4 [==============================] - 0s 41ms/step - loss: 0.2814 - accuracy: 0.9167 - val_loss: 0.2201 - val_accuracy: 0.9667\n",
            "Epoch 49/50\n",
            "4/4 [==============================] - 0s 26ms/step - loss: 0.2767 - accuracy: 0.9167 - val_loss: 0.2157 - val_accuracy: 0.9667\n",
            "Epoch 50/50\n",
            "4/4 [==============================] - 0s 59ms/step - loss: 0.2726 - accuracy: 0.9167 - val_loss: 0.2117 - val_accuracy: 0.9667\n",
            "1/1 [==============================] - 0s 125ms/step - loss: 0.2117 - accuracy: 0.9667\n",
            "Test Accuracy: 96.67%\n"
          ]
        }
      ]
    },
    {
      "cell_type": "code",
      "source": [],
      "metadata": {
        "id": "VyKZLyS1DL6F"
      },
      "execution_count": null,
      "outputs": []
    }
  ]
}