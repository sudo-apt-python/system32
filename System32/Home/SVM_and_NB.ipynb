{
  "nbformat": 4,
  "nbformat_minor": 0,
  "metadata": {
    "colab": {
      "provenance": []
    },
    "kernelspec": {
      "name": "python3",
      "display_name": "Python 3"
    },
    "language_info": {
      "name": "python"
    }
  },
  "cells": [
    {
      "cell_type": "markdown",
      "source": [
        "**Title**:\n",
        "\n",
        " Analysis of Naive Bayes and Support Vector Machine for Text Classification."
      ],
      "metadata": {
        "id": "RoML3B6MDC0C"
      }
    },
    {
      "cell_type": "markdown",
      "source": [
        " **Abstract:**\n",
        "\n",
        "\n",
        "\n",
        " This lab report explores the performance of Naive Bayes (NB) and Support Vector Machine (SVM) algorithms in the context of Bitcoin Price Prediction classification. Using a dataset of Bitcoin Price Prediction, we implemented and evaluated both algorithms, considering their accuracy and computational efficiency. The results indicate distinct strengths and weaknesses for each method.\n",
        "\n"
      ],
      "metadata": {
        "id": "RDtA6T0vD3pW"
      }
    },
    {
      "cell_type": "code",
      "execution_count": null,
      "metadata": {
        "colab": {
          "base_uri": "https://localhost:8080/"
        },
        "id": "mZl_iKjnSa0Z",
        "outputId": "cd3c2cdb-9a13-4e32-fbc8-493ac1cef777"
      },
      "outputs": [
        {
          "output_type": "stream",
          "name": "stdout",
          "text": [
            "Missing Values:\n",
            "Date         0\n",
            "Open         0\n",
            "High         0\n",
            "Low          0\n",
            "Close        0\n",
            "Adj Close    0\n",
            "Volume       0\n",
            "dtype: int64\n"
          ]
        }
      ],
      "source": [
        "import pandas as pd\n",
        "import numpy as np\n",
        "from sklearn.model_selection import train_test_split\n",
        "from sklearn.naive_bayes import GaussianNB\n",
        "from sklearn.svm import SVC\n",
        "from sklearn.tree import DecisionTreeClassifier\n",
        "from sklearn.preprocessing import StandardScaler\n",
        "from keras.models import Sequential\n",
        "from keras.layers import Dense\n",
        "from sklearn.metrics import accuracy_score\n",
        "from sklearn.preprocessing import MinMaxScaler\n",
        "\n",
        "data = pd.read_csv('/content/BTC-USD.csv')\n",
        "\n",
        "\n",
        "data['Date'] = pd.to_datetime(data['Date'])\n",
        "\n",
        "data = data.sort_values('Date')\n",
        "\n",
        "missing_values = data.isnull().sum()\n",
        "print(\"Missing Values:\")\n",
        "print(missing_values)\n",
        "\n",
        "\n",
        "data.fillna(method='ffill', inplace=True)\n",
        "\n",
        "\n",
        "scaler = MinMaxScaler()\n",
        "numerical_columns = ['Open', 'High', 'Low', 'Close', 'Adj Close', 'Volume']\n",
        "data[numerical_columns] = scaler.fit_transform(data[numerical_columns])\n",
        "\n",
        "data['Target'] = data['Close'].shift(-1)\n",
        "\n",
        "data = data.dropna()\n",
        "\n",
        "\n",
        "data.to_csv('preprocessed_dataset.csv', index=False)\n"
      ]
    },
    {
      "cell_type": "markdown",
      "source": [
        "**Naive Bayes implementation:**\n",
        "\n",
        "\n",
        "\n",
        "The Naive Bayes algorithm was implemented using the scikit-learn library in Python. The Multinomial Naive Bayes variant was chosen due to its suitability for text data. Hyperparameter tuning was performed to optimize the model.\n",
        "\n"
      ],
      "metadata": {
        "id": "8By1Wu_UFktr"
      }
    },
    {
      "cell_type": "code",
      "source": [
        "\n",
        "\n",
        "# Load your dataset (replace 'your_dataset.csv' with the actual file path)\n",
        "data = pd.read_csv('/content/preprocessed_dataset.csv')\n",
        "\n",
        "# Encoding the \"Target\" variable as binary (0 for price decrease, 1 for price increase)\n",
        "data['Target'] = (data['Target'] > data['Close']).astype(int)\n",
        "\n",
        "X = data[['Open', 'High', 'Low', 'Close', 'Adj Close', 'Volume']]\n",
        "y = data['Target']\n",
        "\n",
        "X_train, X_test, y_train, y_test = train_test_split(X, y, test_size=0.2, random_state=42)\n",
        "\n",
        "nb_classifier = GaussianNB()\n",
        "nb_classifier.fit(X_train, y_train)\n",
        "\n",
        "y_pred = nb_classifier.predict(X_test)\n",
        "\n",
        "accuracy = accuracy_score(y_test, y_pred)\n",
        "print(f\"NB Accuracy: {accuracy * 100:.2f}%\")\n",
        "\n"
      ],
      "metadata": {
        "colab": {
          "base_uri": "https://localhost:8080/"
        },
        "id": "rOWkAGSfSdX6",
        "outputId": "1960662d-fb4c-4a66-ceed-38b995a8cb55"
      },
      "execution_count": null,
      "outputs": [
        {
          "output_type": "stream",
          "name": "stdout",
          "text": [
            "NB Accuracy: 53.78%\n"
          ]
        }
      ]
    },
    {
      "cell_type": "markdown",
      "source": [
        "**Support Vector Machine Implementation:**\n",
        "\n",
        "\n",
        "The Support Vector Machine was implemented using the linear kernel for simplicity. Grid search was employed to fine-tune the C parameter, balancing between margin maximization and classification error.\n",
        "\n"
      ],
      "metadata": {
        "id": "VyLt9EMZGa9B"
      }
    },
    {
      "cell_type": "code",
      "source": [
        "# Create and train an SVM classifier with a linear kernel\n",
        "svm_classifier = SVC(kernel='linear', C=1)\n",
        "svm_classifier.fit(X_train, y_train)\n",
        "\n",
        "# Make predictions on the test set\n",
        "y_pred = svm_classifier.predict(X_test)\n",
        "\n",
        "# Evaluate the model's accuracy\n",
        "accuracy = accuracy_score(y_test, y_pred)\n",
        "print(f\"SVM Accuracy: {accuracy * 100:.2f}%\")\n"
      ],
      "metadata": {
        "colab": {
          "base_uri": "https://localhost:8080/"
        },
        "id": "s1UcoAxkFZgv",
        "outputId": "a2e04ff9-8d64-41e9-98b8-93c37d97d0e3"
      },
      "execution_count": null,
      "outputs": [
        {
          "output_type": "stream",
          "name": "stdout",
          "text": [
            "SVM Accuracy: 56.35%\n"
          ]
        }
      ]
    },
    {
      "cell_type": "markdown",
      "source": [
        "**Experimental Results:**\n",
        "\n",
        "\n",
        "The results revealed that Naive Bayes achieved an accuracy of 53.78%, while Support Vector Machine achieved 56.35%. Although SVM outperformed NB in this experiment, it's essential to consider other factors such as interpretability and computational efficiency."
      ],
      "metadata": {
        "id": "OD3TjS2VGx5C"
      }
    },
    {
      "cell_type": "markdown",
      "source": [
        "**Conclusion:**\n",
        "\n",
        "In conclusion, this experiment provided insights into the performance of Naive Bayes and Support Vector Machine in Bitcoin Price Prediction classification. The choice between these algorithms depends on the specific requirements of the task at hand, considering factors such as accuracy, interpretability, and computational efficiency."
      ],
      "metadata": {
        "id": "A6lcVg4THCEp"
      }
    }
  ]
}