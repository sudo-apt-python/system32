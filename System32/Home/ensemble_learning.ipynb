{
  "cells": [
    {
      "cell_type": "markdown",
      "source": [
        "### Title:\n",
        "*Comparative Analysis of Ensemble Techniques: ADAboost, Gradient Boosting, XGBoost, and CatBoost*\n",
        "\n",
        "### Introduction:\n",
        "Ensemble learning involves combining the predictions of multiple base models to improve overall performance, robustness, and generalization. Four prominent ensemble techniques—ADAboost, Gradient Boosting, XGBoost, and CatBoost—have gained widespread use across various machine learning applications. This comparative analysis aims to elucidate the strengths and characteristics of each algorithm, aiding practitioners in selecting the most suitable ensemble method for their specific tasks.\n",
        "\n",
        "### ADAboost (Adaptive Boosting):\n",
        "*Method/Working:*\n",
        "1. *Boosting Approach:*\n",
        "   - ADAboost employs a boosting approach, where weak learners are sequentially trained to correct errors made by the previous ones.\n",
        "   - It assigns weights to instances, emphasizing the misclassified ones in subsequent iterations.\n",
        "\n",
        "2. *Weighted Voting:*\n",
        "   - In each iteration, a weak learner is trained on the weighted dataset, and a weight is assigned to its prediction.\n",
        "   - The final prediction is obtained through a weighted sum of the individual weak learners' predictions.\n",
        "\n",
        "3. *Adaptation:*\n",
        "   - ADAboost adapts by assigning higher weights to misclassified instances, forcing subsequent weak learners to focus on correcting these errors.\n",
        "   - The final model combines the strengths of multiple weak learners to create a robust and accurate ensemble.\n",
        "\n",
        "### Gradient Boosting:\n",
        "*Method/Working:*\n",
        "1. *Sequential Training:*\n",
        "   - Gradient Boosting builds an ensemble by sequentially training weak learners.\n",
        "   - Each learner corrects the errors of the previous one, optimizing a predefined loss function.\n",
        "\n",
        "2. *Gradient Descent:*\n",
        "   - The algorithm minimizes the loss function by adjusting the parameters of the weak learners using gradient descent.\n",
        "   - The model combines multiple weak learners to create a strong predictive model.\n",
        "\n",
        "3. *Shrinkage (Regularization):*\n",
        "   - Gradient Boosting introduces shrinkage, a regularization technique that scales the contribution of each weak learner, preventing overfitting.\n",
        "\n",
        "### XGBoost (Extreme Gradient Boosting):\n",
        "*Method/Working:*\n",
        "1. *Regularized Boosting:*\n",
        "   - XGBoost extends traditional gradient boosting with additional features such as regularization terms to control model complexity.\n",
        "   - It incorporates both tree-based models and linear models.\n",
        "\n",
        "2. *Parallel Processing:*\n",
        "   - XGBoost supports parallel processing, enhancing computational efficiency.\n",
        "   - It efficiently handles missing data and provides options for tree pruning and regularization.\n",
        "\n",
        "3. *Feature Importance:*\n",
        "   - XGBoost allows the assessment of feature importance, aiding in feature selection and understanding model decisions.\n",
        "\n",
        "### CatBoost (Categorical Boosting):\n",
        "*Method/Working:*\n",
        "1. *Categorical Feature Handling:*\n",
        "   - CatBoost is designed to handle categorical features efficiently without the need for extensive preprocessing.\n",
        "   - It internally encodes categorical variables, reducing the risk of information loss.\n",
        "\n",
        "2. *Dynamic Tree Growing:*\n",
        "   - CatBoost employs a dynamic tree-growth strategy, preventing overfitting by limiting the depth of individual trees.\n",
        "   - It automatically finds an optimal number of iterations.\n",
        "\n",
        "3. *Robust to Noisy Data:*\n",
        "   - CatBoost is robust to noisy data and requires minimal hyperparameter tuning.\n",
        "   - It performs well on diverse datasets and demonstrates competitive performance.\n",
        "\n",
        "\n",
        "\n",
        "| Feature                         | ADAboost                        | Gradient Boosting               | XGBoost                         | CatBoost                        |\n",
        "|---------------------------------|---------------------------------|---------------------------------|---------------------------------|---------------------------------|\n",
        "| *Boosting Approach*           | Sequential                     | Sequential                     | Sequential                     | Sequential                     |\n",
        "| *Weighted Voting*             | Yes                             | No                              | Yes                             | Yes                             |\n",
        "| *Adaptation*                  | Emphasizes misclassified       | Minimizes loss through gradient| Regularization and shrinkage    | Handles categorical features   |\n",
        "| *Sequential Training*         | Yes                             | Yes                             | Yes                             | Yes                             |\n",
        "| *Gradient Descent*            | No                              | Yes                             | Yes                             | Yes                             |\n",
        "| *Shrinkage (Regularization)*  | No                              | Yes                             | Yes                             | Yes                             |\n",
        "| *Regularized Boosting*        | No                              | No                              | Yes                             | No                              |\n",
        "| *Parallel Processing*         | No                              | No                              | Yes                             | No                              |\n",
        "| *Feature Importance*          | No                              | No                              | Yes                             | No                              |\n",
        "| *Categorical Feature Handling*| No                              | No                              | No                              | Yes                             |\n",
        "| *Dynamic Tree Growing*        | No                              | No                              | No                              | Yes                             |\n",
        "| *Robust to Noisy Data*        | No                              | No                              | Yes                             | Yes                             |\n",
        "| *Minimal Hyperparameter Tuning*| Yes                           | Yes                             | No                              | Yes                             |"
      ],
      "metadata": {
        "id": "Nmmm9fg0Q0fc"
      }
    },
    {
      "cell_type": "code",
      "execution_count": null,
      "metadata": {
        "colab": {
          "base_uri": "https://localhost:8080/"
        },
        "id": "mb6MRU_8aEho",
        "outputId": "4e01f30e-cc0e-443a-822e-dd7659dd4d5a"
      },
      "outputs": [
        {
          "output_type": "stream",
          "name": "stdout",
          "text": [
            "Requirement already satisfied: catboost in /usr/local/lib/python3.10/dist-packages (1.2.2)\n",
            "Requirement already satisfied: graphviz in /usr/local/lib/python3.10/dist-packages (from catboost) (0.20.1)\n",
            "Requirement already satisfied: matplotlib in /usr/local/lib/python3.10/dist-packages (from catboost) (3.7.1)\n",
            "Requirement already satisfied: numpy>=1.16.0 in /usr/local/lib/python3.10/dist-packages (from catboost) (1.23.5)\n",
            "Requirement already satisfied: pandas>=0.24 in /usr/local/lib/python3.10/dist-packages (from catboost) (1.5.3)\n",
            "Requirement already satisfied: scipy in /usr/local/lib/python3.10/dist-packages (from catboost) (1.11.3)\n",
            "Requirement already satisfied: plotly in /usr/local/lib/python3.10/dist-packages (from catboost) (5.15.0)\n",
            "Requirement already satisfied: six in /usr/local/lib/python3.10/dist-packages (from catboost) (1.16.0)\n",
            "Requirement already satisfied: python-dateutil>=2.8.1 in /usr/local/lib/python3.10/dist-packages (from pandas>=0.24->catboost) (2.8.2)\n",
            "Requirement already satisfied: pytz>=2020.1 in /usr/local/lib/python3.10/dist-packages (from pandas>=0.24->catboost) (2023.3.post1)\n",
            "Requirement already satisfied: contourpy>=1.0.1 in /usr/local/lib/python3.10/dist-packages (from matplotlib->catboost) (1.2.0)\n",
            "Requirement already satisfied: cycler>=0.10 in /usr/local/lib/python3.10/dist-packages (from matplotlib->catboost) (0.12.1)\n",
            "Requirement already satisfied: fonttools>=4.22.0 in /usr/local/lib/python3.10/dist-packages (from matplotlib->catboost) (4.44.3)\n",
            "Requirement already satisfied: kiwisolver>=1.0.1 in /usr/local/lib/python3.10/dist-packages (from matplotlib->catboost) (1.4.5)\n",
            "Requirement already satisfied: packaging>=20.0 in /usr/local/lib/python3.10/dist-packages (from matplotlib->catboost) (23.2)\n",
            "Requirement already satisfied: pillow>=6.2.0 in /usr/local/lib/python3.10/dist-packages (from matplotlib->catboost) (9.4.0)\n",
            "Requirement already satisfied: pyparsing>=2.3.1 in /usr/local/lib/python3.10/dist-packages (from matplotlib->catboost) (3.1.1)\n",
            "Requirement already satisfied: tenacity>=6.2.0 in /usr/local/lib/python3.10/dist-packages (from plotly->catboost) (8.2.3)\n"
          ]
        }
      ],
      "source": [
        "pip install catboost\n"
      ]
    },
    {
      "cell_type": "code",
      "execution_count": null,
      "metadata": {
        "id": "STlgnBGUaQ_o"
      },
      "outputs": [],
      "source": [
        "from sklearn.model_selection import train_test_split\n",
        "from sklearn.metrics import accuracy_score\n",
        "from sklearn.ensemble import AdaBoostClassifier, GradientBoostingClassifier\n",
        "from xgboost import XGBClassifier\n",
        "from catboost import CatBoostClassifier"
      ]
    },
    {
      "cell_type": "code",
      "execution_count": null,
      "metadata": {
        "id": "I3ftWK89aSpg"
      },
      "outputs": [],
      "source": [
        "import pandas as pd\n"
      ]
    },
    {
      "cell_type": "code",
      "execution_count": null,
      "metadata": {
        "id": "BzcfZTY-ak9f"
      },
      "outputs": [],
      "source": [
        "from sklearn.datasets import load_digits\n",
        "data = load_digits()  # Load the digits dataset as an example\n",
        "X, y = data.data, data.target  # Extract features and target"
      ]
    },
    {
      "cell_type": "code",
      "execution_count": null,
      "metadata": {
        "id": "PZimXkPUa2cJ"
      },
      "outputs": [],
      "source": [
        "X_train, X_test, y_train, y_test = train_test_split(X, y, test_size=0.2, random_state=42)"
      ]
    },
    {
      "cell_type": "code",
      "execution_count": null,
      "metadata": {
        "id": "rh8q2EC_a-ak"
      },
      "outputs": [],
      "source": [
        "adaboost = AdaBoostClassifier()\n",
        "gradient_boost = GradientBoostingClassifier()\n",
        "xgboost = XGBClassifier()\n",
        "catboost = CatBoostClassifier(verbose=False)"
      ]
    },
    {
      "cell_type": "code",
      "execution_count": null,
      "metadata": {
        "colab": {
          "base_uri": "https://localhost:8080/"
        },
        "id": "SACwoDJXbERW",
        "outputId": "97441a3f-0ae1-4dce-c7b0-b3929219061b"
      },
      "outputs": [
        {
          "output_type": "execute_result",
          "data": {
            "text/plain": [
              "<catboost.core.CatBoostClassifier at 0x7bc6bb263a60>"
            ]
          },
          "metadata": {},
          "execution_count": 18
        }
      ],
      "source": [
        "adaboost.fit(X_train, y_train)\n",
        "gradient_boost.fit(X_train, y_train)\n",
        "xgboost.fit(X_train, y_train)\n",
        "catboost.fit(X_train, y_train)"
      ]
    },
    {
      "cell_type": "code",
      "execution_count": null,
      "metadata": {
        "id": "u0aJhBW-bSzL"
      },
      "outputs": [],
      "source": [
        "adaboost_pred = adaboost.predict(X_test)\n",
        "gb_pred = gradient_boost.predict(X_test)\n",
        "xgb_pred = xgboost.predict(X_test)\n",
        "catboost_pred = catboost.predict(X_test)"
      ]
    },
    {
      "cell_type": "code",
      "execution_count": null,
      "metadata": {
        "colab": {
          "base_uri": "https://localhost:8080/"
        },
        "id": "vrDTBkDhbXF9",
        "outputId": "10a57580-3e9d-4a17-89fd-37c620412ce0"
      },
      "outputs": [
        {
          "output_type": "stream",
          "name": "stdout",
          "text": [
            "AdaBoost Accuracy: 0.21944444444444444\n",
            "Gradient Boosting Accuracy: 0.9722222222222222\n",
            "XGBoost Accuracy: 0.9694444444444444\n",
            "CatBoost Accuracy: 0.9833333333333333\n"
          ]
        }
      ],
      "source": [
        "print(\"AdaBoost Accuracy:\", accuracy_score(y_test, adaboost_pred))\n",
        "print(\"Gradient Boosting Accuracy:\", accuracy_score(y_test, gb_pred))\n",
        "print(\"XGBoost Accuracy:\", accuracy_score(y_test, xgb_pred))\n",
        "print(\"CatBoost Accuracy:\", accuracy_score(y_test, catboost_pred))"
      ]
    },
    {
      "cell_type": "code",
      "execution_count": null,
      "metadata": {
        "colab": {
          "base_uri": "https://localhost:8080/",
          "height": 607
        },
        "id": "kfUtZTj8bssr",
        "outputId": "c292340f-257e-42b0-b512-520c745e3f86"
      },
      "outputs": [
        {
          "output_type": "display_data",
          "data": {
            "text/plain": [
              "<Figure size 800x600 with 1 Axes>"
            ],
            "image/png": "[encoded data removed]"
          },
          "metadata": {}
        }
      ],
      "source": [
        "import matplotlib.pyplot as plt\n",
        "\n",
        "# ... (existing code for loading data and training models)\n",
        "\n",
        "# Get accuracy scores\n",
        "accuracy_scores = [\n",
        "    accuracy_score(y_test, adaboost_pred),\n",
        "    accuracy_score(y_test, gb_pred),\n",
        "    accuracy_score(y_test, xgb_pred),\n",
        "    accuracy_score(y_test, catboost_pred)\n",
        "]\n",
        "\n",
        "models = ['AdaBoost', 'Gradient Boosting', 'XGBoost', 'CatBoost']\n",
        "\n",
        "# Plotting\n",
        "plt.figure(figsize=(8, 6))\n",
        "plt.bar(models, accuracy_scores, color='black')\n",
        "plt.title('Accuracy Scores of Different Models')\n",
        "plt.xlabel('Models')\n",
        "plt.ylabel('Accuracy')\n",
        "plt.ylim(0.0, 1.0)  # Set y-axis limit from 0 to 1 for accuracy\n",
        "plt.xticks(rotation=45)\n",
        "for i, v in enumerate(accuracy_scores):\n",
        "    plt.text(i, v + 0.01, f\"{v:.2f}\", ha='center', va='bottom')\n",
        "plt.tight_layout()\n",
        "plt.show()\n"
      ]
    }
  ],
  "metadata": {
    "colab": {
      "provenance": []
    },
    "kernelspec": {
      "display_name": "Python 3",
      "name": "python3"
    },
    "language_info": {
      "name": "python"
    }
  },
  "nbformat": 4,
  "nbformat_minor": 0
}