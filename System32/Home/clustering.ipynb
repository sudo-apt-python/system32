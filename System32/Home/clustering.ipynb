{
  "nbformat": 4,
  "nbformat_minor": 0,
  "metadata": {
    "colab": {
      "provenance": []
    },
    "kernelspec": {
      "name": "python3",
      "display_name": "Python 3"
    },
    "language_info": {
      "name": "python"
    }
  },
  "cells": [
    {
      "cell_type": "markdown",
      "source": [
        "###Title -\n",
        "IMPLEMENTATION OF CLUSTERING TECHNIQUES\n",
        "1. K-MEANS\n",
        "2. HIERARCHICAL CLUSTERING\n",
        "3. DBSCAN\n",
        "4. EXPECTATION MAXIMIZATION ALGORITHM\n",
        "\n",
        "###THEORY:\n",
        "1. K-means Clustering:\n",
        "Objective: Partition the data into k clusters, where each data point belongs to the cluster with the nearest mean.\n",
        "How it works: Randomly initialize k cluster centroids. Assign each data point to the nearest centroid. Recalculate the centroid of each cluster. Repeat the assignment and recalculation steps until convergence or a specified number of iterations.Key Parameters: Number of clusters (k): The user must specify\n",
        "the number of clusters to form. Initialization: The method used to initialize the centroids.\n",
        "\n",
        "\n",
        "\n",
        "2. Hierarchical Clustering:\n",
        "Objective: Build a hierarchy of clusters. The result is a tree-like structure called a dendrogram. How it works: Treat each data point as a single\n",
        "cluster. Merge the two closest clusters at each step until only one cluster remains. The dendrogram visually represents the hierarchy of\n",
        "clusters, and you can cut it at a certain height to obtain a specific number of clusters. Key Parameters: Linkage Method: Determines the\n",
        "distance between clusters. Dendrogram Cut Height: Specifies the level at which to cut the dendrogram.\n",
        "\n",
        "\n",
        "\n",
        "3. DBSCAN (Density-Based Spatial Clustering of Applications with Noise):\n",
        "Objective: Identify clusters based on dense regions in the data space, and it can find clusters of arbitrary shapes. How it works: Define a\n",
        "neighborhood around each data point within a specified distance (eps). If a point has at least a minimum number of points (min_samples)\n",
        "within its neighborhood, it's considered a core point. Expand clusters by connecting core points that are close enough to each other. Points that\n",
        "are not core points or part of any cluster are considered outliers or noise. Key Parameters: Epsilon (eps): Maximum distance between two\n",
        "samples for one to be considered as being in the neighborhood of the other. Min_samples: The minimum number of samples in a neighborhood\n",
        "for a point to be considered as a core point.\n",
        "\n",
        "\n",
        "\n",
        "4. EXPECTATION MAXIMIZATION ALGORITHM:\n",
        "The Expectation-Maximization (EM) algorithm is defined as the combination of various unsupervised machine learning algorithms, which is\n",
        "used to determine the local maximum likelihood estimates (MLE) or maximum a posteriori estimates (MAP) for unobservable variables in\n",
        "statistical models. Further, it is a technique to find maximum likelihood estimation when the latent variables are present. It is also referred to as\n",
        "the latent variable model."
      ],
      "metadata": {
        "id": "Dp8gR3B-x9UJ"
      }
    },
    {
      "cell_type": "code",
      "source": [
        "import pandas as pd\n",
        "from sklearn.preprocessing import StandardScaler\n",
        "from sklearn.cluster import KMeans, DBSCAN\n",
        "from sklearn.preprocessing import StandardScaler\n",
        "from scipy.cluster.hierarchy import dendrogram, linkage\n",
        "from sklearn.metrics import silhouette_score\n",
        "import numpy as np\n",
        "from sklearn.cluster import DBSCAN\n",
        "from sklearn.impute import SimpleImputer\n",
        "from sklearn.metrics import silhouette_score, adjusted_rand_score\n",
        "from sklearn.mixture import GaussianMixture\n",
        "import matplotlib.pyplot as plt\n",
        "import seaborn as sns\n"
      ],
      "metadata": {
        "id": "EWQEfJnpy0NP"
      },
      "execution_count": null,
      "outputs": []
    },
    {
      "cell_type": "code",
      "source": [
        "file = pd.read_csv('/content/Gender_classification_dataset.csv')\n",
        "file.head(20)"
      ],
      "metadata": {
        "colab": {
          "base_uri": "https://localhost:8080/",
          "height": 676
        },
        "id": "v-t3rtW3y3ka",
        "outputId": "314c176a-2e67-4123-9d35-a237778cfce1"
      },
      "execution_count": null,
      "outputs": [
        {
          "output_type": "execute_result",
          "data": {
            "text/plain": [
              "    long_hair  forehead_width_cm  forehead_height_cm  nose_wide  nose_long  \\\n",
              "0           1               11.8                 6.1          1          0   \n",
              "1           0               14.0                 5.4          0          0   \n",
              "2           0               11.8                 6.3          1          1   \n",
              "3           0               14.4                 6.1          0          1   \n",
              "4           1               13.5                 5.9          0          0   \n",
              "5           1               13.0                 6.8          1          1   \n",
              "6           1               15.3                 6.2          1          1   \n",
              "7           0               13.0                 5.2          0          0   \n",
              "8           1               11.9                 5.4          1          0   \n",
              "9           1               12.1                 5.4          0          0   \n",
              "10          0               12.5                 5.4          1          1   \n",
              "11          1               15.5                 5.8          1          1   \n",
              "12          0               14.7                 5.2          1          1   \n",
              "13          1               14.5                 6.7          0          1   \n",
              "14          1               14.2                 6.5          0          0   \n",
              "15          0               12.5                 5.2          1          1   \n",
              "16          1               15.2                 6.0          1          1   \n",
              "17          1               14.0                 5.9          0          0   \n",
              "18          1               11.9                 5.2          0          0   \n",
              "19          1               14.4                 5.6          1          0   \n",
              "\n",
              "    lips_thin  distance_nose_to_lip_long  gender  \n",
              "0           1                          1       1  \n",
              "1           1                          0       0  \n",
              "2           1                          1       1  \n",
              "3           1                          1       1  \n",
              "4           0                          0       0  \n",
              "5           1                          1       1  \n",
              "6           1                          0       1  \n",
              "7           0                          0       0  \n",
              "8           1                          1       0  \n",
              "9           0                          0       0  \n",
              "10          1                          1       1  \n",
              "11          1                          1       1  \n",
              "12          1                          1       1  \n",
              "13          1                          1       1  \n",
              "14          0                          0       0  \n",
              "15          1                          1       1  \n",
              "16          1                          1       1  \n",
              "17          0                          0       0  \n",
              "18          0                          0       0  \n",
              "19          1                          1       1  "
            ],
            "text/html": [
              "\n",
              "  <div id=\"df-3523966d-4854-46f3-9357-d0dbc6974e73\" class=\"colab-df-container\">\n",
              "    <div>\n",
              "<style scoped>\n",
              "    .dataframe tbody tr th:only-of-type {\n",
              "        vertical-align: middle;\n",
              "    }\n",
              "\n",
              "    .dataframe tbody tr th {\n",
              "        vertical-align: top;\n",
              "    }\n",
              "\n",
              "    .dataframe thead th {\n",
              "        text-align: right;\n",
              "    }\n",
              "</style>\n",
              "<table border=\"1\" class=\"dataframe\">\n",
              "  <thead>\n",
              "    <tr style=\"text-align: right;\">\n",
              "      <th></th>\n",
              "      <th>long_hair</th>\n",
              "      <th>forehead_width_cm</th>\n",
              "      <th>forehead_height_cm</th>\n",
              "      <th>nose_wide</th>\n",
              "      <th>nose_long</th>\n",
              "      <th>lips_thin</th>\n",
              "      <th>distance_nose_to_lip_long</th>\n",
              "      <th>gender</th>\n",
              "    </tr>\n",
              "  </thead>\n",
              "  <tbody>\n",
              "    <tr>\n",
              "      <th>0</th>\n",
              "      <td>1</td>\n",
              "      <td>11.8</td>\n",
              "      <td>6.1</td>\n",
              "      <td>1</td>\n",
              "      <td>0</td>\n",
              "      <td>1</td>\n",
              "      <td>1</td>\n",
              "      <td>1</td>\n",
              "    </tr>\n",
              "    <tr>\n",
              "      <th>1</th>\n",
              "      <td>0</td>\n",
              "      <td>14.0</td>\n",
              "      <td>5.4</td>\n",
              "      <td>0</td>\n",
              "      <td>0</td>\n",
              "      <td>1</td>\n",
              "      <td>0</td>\n",
              "      <td>0</td>\n",
              "    </tr>\n",
              "    <tr>\n",
              "      <th>2</th>\n",
              "      <td>0</td>\n",
              "      <td>11.8</td>\n",
              "      <td>6.3</td>\n",
              "      <td>1</td>\n",
              "      <td>1</td>\n",
              "      <td>1</td>\n",
              "      <td>1</td>\n",
              "      <td>1</td>\n",
              "    </tr>\n",
              "    <tr>\n",
              "      <th>3</th>\n",
              "      <td>0</td>\n",
              "      <td>14.4</td>\n",
              "      <td>6.1</td>\n",
              "      <td>0</td>\n",
              "      <td>1</td>\n",
              "      <td>1</td>\n",
              "      <td>1</td>\n",
              "      <td>1</td>\n",
              "    </tr>\n",
              "    <tr>\n",
              "      <th>4</th>\n",
              "      <td>1</td>\n",
              "      <td>13.5</td>\n",
              "      <td>5.9</td>\n",
              "      <td>0</td>\n",
              "      <td>0</td>\n",
              "      <td>0</td>\n",
              "      <td>0</td>\n",
              "      <td>0</td>\n",
              "    </tr>\n",
              "    <tr>\n",
              "      <th>5</th>\n",
              "      <td>1</td>\n",
              "      <td>13.0</td>\n",
              "      <td>6.8</td>\n",
              "      <td>1</td>\n",
              "      <td>1</td>\n",
              "      <td>1</td>\n",
              "      <td>1</td>\n",
              "      <td>1</td>\n",
              "    </tr>\n",
              "    <tr>\n",
              "      <th>6</th>\n",
              "      <td>1</td>\n",
              "      <td>15.3</td>\n",
              "      <td>6.2</td>\n",
              "      <td>1</td>\n",
              "      <td>1</td>\n",
              "      <td>1</td>\n",
              "      <td>0</td>\n",
              "      <td>1</td>\n",
              "    </tr>\n",
              "    <tr>\n",
              "      <th>7</th>\n",
              "      <td>0</td>\n",
              "      <td>13.0</td>\n",
              "      <td>5.2</td>\n",
              "      <td>0</td>\n",
              "      <td>0</td>\n",
              "      <td>0</td>\n",
              "      <td>0</td>\n",
              "      <td>0</td>\n",
              "    </tr>\n",
              "    <tr>\n",
              "      <th>8</th>\n",
              "      <td>1</td>\n",
              "      <td>11.9</td>\n",
              "      <td>5.4</td>\n",
              "      <td>1</td>\n",
              "      <td>0</td>\n",
              "      <td>1</td>\n",
              "      <td>1</td>\n",
              "      <td>0</td>\n",
              "    </tr>\n",
              "    <tr>\n",
              "      <th>9</th>\n",
              "      <td>1</td>\n",
              "      <td>12.1</td>\n",
              "      <td>5.4</td>\n",
              "      <td>0</td>\n",
              "      <td>0</td>\n",
              "      <td>0</td>\n",
              "      <td>0</td>\n",
              "      <td>0</td>\n",
              "    </tr>\n",
              "    <tr>\n",
              "      <th>10</th>\n",
              "      <td>0</td>\n",
              "      <td>12.5</td>\n",
              "      <td>5.4</td>\n",
              "      <td>1</td>\n",
              "      <td>1</td>\n",
              "      <td>1</td>\n",
              "      <td>1</td>\n",
              "      <td>1</td>\n",
              "    </tr>\n",
              "    <tr>\n",
              "      <th>11</th>\n",
              "      <td>1</td>\n",
              "      <td>15.5</td>\n",
              "      <td>5.8</td>\n",
              "      <td>1</td>\n",
              "      <td>1</td>\n",
              "      <td>1</td>\n",
              "      <td>1</td>\n",
              "      <td>1</td>\n",
              "    </tr>\n",
              "    <tr>\n",
              "      <th>12</th>\n",
              "      <td>0</td>\n",
              "      <td>14.7</td>\n",
              "      <td>5.2</td>\n",
              "      <td>1</td>\n",
              "      <td>1</td>\n",
              "      <td>1</td>\n",
              "      <td>1</td>\n",
              "      <td>1</td>\n",
              "    </tr>\n",
              "    <tr>\n",
              "      <th>13</th>\n",
              "      <td>1</td>\n",
              "      <td>14.5</td>\n",
              "      <td>6.7</td>\n",
              "      <td>0</td>\n",
              "      <td>1</td>\n",
              "      <td>1</td>\n",
              "      <td>1</td>\n",
              "      <td>1</td>\n",
              "    </tr>\n",
              "    <tr>\n",
              "      <th>14</th>\n",
              "      <td>1</td>\n",
              "      <td>14.2</td>\n",
              "      <td>6.5</td>\n",
              "      <td>0</td>\n",
              "      <td>0</td>\n",
              "      <td>0</td>\n",
              "      <td>0</td>\n",
              "      <td>0</td>\n",
              "    </tr>\n",
              "    <tr>\n",
              "      <th>15</th>\n",
              "      <td>0</td>\n",
              "      <td>12.5</td>\n",
              "      <td>5.2</td>\n",
              "      <td>1</td>\n",
              "      <td>1</td>\n",
              "      <td>1</td>\n",
              "      <td>1</td>\n",
              "      <td>1</td>\n",
              "    </tr>\n",
              "    <tr>\n",
              "      <th>16</th>\n",
              "      <td>1</td>\n",
              "      <td>15.2</td>\n",
              "      <td>6.0</td>\n",
              "      <td>1</td>\n",
              "      <td>1</td>\n",
              "      <td>1</td>\n",
              "      <td>1</td>\n",
              "      <td>1</td>\n",
              "    </tr>\n",
              "    <tr>\n",
              "      <th>17</th>\n",
              "      <td>1</td>\n",
              "      <td>14.0</td>\n",
              "      <td>5.9</td>\n",
              "      <td>0</td>\n",
              "      <td>0</td>\n",
              "      <td>0</td>\n",
              "      <td>0</td>\n",
              "      <td>0</td>\n",
              "    </tr>\n",
              "    <tr>\n",
              "      <th>18</th>\n",
              "      <td>1</td>\n",
              "      <td>11.9</td>\n",
              "      <td>5.2</td>\n",
              "      <td>0</td>\n",
              "      <td>0</td>\n",
              "      <td>0</td>\n",
              "      <td>0</td>\n",
              "      <td>0</td>\n",
              "    </tr>\n",
              "    <tr>\n",
              "      <th>19</th>\n",
              "      <td>1</td>\n",
              "      <td>14.4</td>\n",
              "      <td>5.6</td>\n",
              "      <td>1</td>\n",
              "      <td>0</td>\n",
              "      <td>1</td>\n",
              "      <td>1</td>\n",
              "      <td>1</td>\n",
              "    </tr>\n",
              "  </tbody>\n",
              "</table>\n",
              "</div>\n",
              "    <div class=\"colab-df-buttons\">\n",
              "\n",
              "  <div class=\"colab-df-container\">\n",
              "    <button class=\"colab-df-convert\" onclick=\"convertToInteractive('df-3523966d-4854-46f3-9357-d0dbc6974e73')\"\n",
              "            title=\"Convert this dataframe to an interactive table.\"\n",
              "            style=\"display:none;\">\n",
              "\n",
              "  <svg xmlns=\"http://www.w3.org/2000/svg\" height=\"24px\" viewBox=\"0 -960 960 960\">\n",
              "    <path d=\"M120-120v-720h720v720H120Zm60-500h600v-160H180v160Zm220 220h160v-160H400v160Zm0 220h160v-160H400v160ZM180-400h160v-160H180v160Zm440 0h160v-160H620v160ZM180-180h160v-160H180v160Zm440 0h160v-160H620v160Z\"/>\n",
              "  </svg>\n",
              "    </button>\n",
              "\n",
              "  <style>\n",
              "    .colab-df-container {\n",
              "      display:flex;\n",
              "      gap: 12px;\n",
              "    }\n",
              "\n",
              "    .colab-df-convert {\n",
              "      background-color: #E8F0FE;\n",
              "      border: none;\n",
              "      border-radius: 50%;\n",
              "      cursor: pointer;\n",
              "      display: none;\n",
              "      fill: #1967D2;\n",
              "      height: 32px;\n",
              "      padding: 0 0 0 0;\n",
              "      width: 32px;\n",
              "    }\n",
              "\n",
              "    .colab-df-convert:hover {\n",
              "      background-color: #E2EBFA;\n",
              "      box-shadow: 0px 1px 2px rgba(60, 64, 67, 0.3), 0px 1px 3px 1px rgba(60, 64, 67, 0.15);\n",
              "      fill: #174EA6;\n",
              "    }\n",
              "\n",
              "    .colab-df-buttons div {\n",
              "      margin-bottom: 4px;\n",
              "    }\n",
              "\n",
              "    [theme=dark] .colab-df-convert {\n",
              "      background-color: #3B4455;\n",
              "      fill: #D2E3FC;\n",
              "    }\n",
              "\n",
              "    [theme=dark] .colab-df-convert:hover {\n",
              "      background-color: #434B5C;\n",
              "      box-shadow: 0px 1px 3px 1px rgba(0, 0, 0, 0.15);\n",
              "      filter: drop-shadow(0px 1px 2px rgba(0, 0, 0, 0.3));\n",
              "      fill: #FFFFFF;\n",
              "    }\n",
              "  </style>\n",
              "\n",
              "    <script>\n",
              "      const buttonEl =\n",
              "        document.querySelector('#df-3523966d-4854-46f3-9357-d0dbc6974e73 button.colab-df-convert');\n",
              "      buttonEl.style.display =\n",
              "        google.colab.kernel.accessAllowed ? 'block' : 'none';\n",
              "\n",
              "      async function convertToInteractive(key) {\n",
              "        const element = document.querySelector('#df-3523966d-4854-46f3-9357-d0dbc6974e73');\n",
              "        const dataTable =\n",
              "          await google.colab.kernel.invokeFunction('convertToInteractive',\n",
              "                                                    [key], {});\n",
              "        if (!dataTable) return;\n",
              "\n",
              "        const docLinkHtml = 'Like what you see? Visit the ' +\n",
              "          '<a target=\"_blank\" href=https://colab.research.google.com/notebooks/data_table.ipynb>data table notebook</a>'\n",
              "          + ' to learn more about interactive tables.';\n",
              "        element.innerHTML = '';\n",
              "        dataTable['output_type'] = 'display_data';\n",
              "        await google.colab.output.renderOutput(dataTable, element);\n",
              "        const docLink = document.createElement('div');\n",
              "        docLink.innerHTML = docLinkHtml;\n",
              "        element.appendChild(docLink);\n",
              "      }\n",
              "    </script>\n",
              "  </div>\n",
              "\n",
              "\n",
              "<div id=\"df-b83e0fb9-d0e4-47c1-8993-5be10a929336\">\n",
              "  <button class=\"colab-df-quickchart\" onclick=\"quickchart('df-b83e0fb9-d0e4-47c1-8993-5be10a929336')\"\n",
              "            title=\"Suggest charts\"\n",
              "            style=\"display:none;\">\n",
              "\n",
              "<svg xmlns=\"http://www.w3.org/2000/svg\" height=\"24px\"viewBox=\"0 0 24 24\"\n",
              "     width=\"24px\">\n",
              "    <g>\n",
              "        <path d=\"M19 3H5c-1.1 0-2 .9-2 2v14c0 1.1.9 2 2 2h14c1.1 0 2-.9 2-2V5c0-1.1-.9-2-2-2zM9 17H7v-7h2v7zm4 0h-2V7h2v10zm4 0h-2v-4h2v4z\"/>\n",
              "    </g>\n",
              "</svg>\n",
              "  </button>\n",
              "\n",
              "<style>\n",
              "  .colab-df-quickchart {\n",
              "      --bg-color: #E8F0FE;\n",
              "      --fill-color: #1967D2;\n",
              "      --hover-bg-color: #E2EBFA;\n",
              "      --hover-fill-color: #174EA6;\n",
              "      --disabled-fill-color: #AAA;\n",
              "      --disabled-bg-color: #DDD;\n",
              "  }\n",
              "\n",
              "  [theme=dark] .colab-df-quickchart {\n",
              "      --bg-color: #3B4455;\n",
              "      --fill-color: #D2E3FC;\n",
              "      --hover-bg-color: #434B5C;\n",
              "      --hover-fill-color: #FFFFFF;\n",
              "      --disabled-bg-color: #3B4455;\n",
              "      --disabled-fill-color: #666;\n",
              "  }\n",
              "\n",
              "  .colab-df-quickchart {\n",
              "    background-color: var(--bg-color);\n",
              "    border: none;\n",
              "    border-radius: 50%;\n",
              "    cursor: pointer;\n",
              "    display: none;\n",
              "    fill: var(--fill-color);\n",
              "    height: 32px;\n",
              "    padding: 0;\n",
              "    width: 32px;\n",
              "  }\n",
              "\n",
              "  .colab-df-quickchart:hover {\n",
              "    background-color: var(--hover-bg-color);\n",
              "    box-shadow: 0 1px 2px rgba(60, 64, 67, 0.3), 0 1px 3px 1px rgba(60, 64, 67, 0.15);\n",
              "    fill: var(--button-hover-fill-color);\n",
              "  }\n",
              "\n",
              "  .colab-df-quickchart-complete:disabled,\n",
              "  .colab-df-quickchart-complete:disabled:hover {\n",
              "    background-color: var(--disabled-bg-color);\n",
              "    fill: var(--disabled-fill-color);\n",
              "    box-shadow: none;\n",
              "  }\n",
              "\n",
              "  .colab-df-spinner {\n",
              "    border: 2px solid var(--fill-color);\n",
              "    border-color: transparent;\n",
              "    border-bottom-color: var(--fill-color);\n",
              "    animation:\n",
              "      spin 1s steps(1) infinite;\n",
              "  }\n",
              "\n",
              "  @keyframes spin {\n",
              "    0% {\n",
              "      border-color: transparent;\n",
              "      border-bottom-color: var(--fill-color);\n",
              "      border-left-color: var(--fill-color);\n",
              "    }\n",
              "    20% {\n",
              "      border-color: transparent;\n",
              "      border-left-color: var(--fill-color);\n",
              "      border-top-color: var(--fill-color);\n",
              "    }\n",
              "    30% {\n",
              "      border-color: transparent;\n",
              "      border-left-color: var(--fill-color);\n",
              "      border-top-color: var(--fill-color);\n",
              "      border-right-color: var(--fill-color);\n",
              "    }\n",
              "    40% {\n",
              "      border-color: transparent;\n",
              "      border-right-color: var(--fill-color);\n",
              "      border-top-color: var(--fill-color);\n",
              "    }\n",
              "    60% {\n",
              "      border-color: transparent;\n",
              "      border-right-color: var(--fill-color);\n",
              "    }\n",
              "    80% {\n",
              "      border-color: transparent;\n",
              "      border-right-color: var(--fill-color);\n",
              "      border-bottom-color: var(--fill-color);\n",
              "    }\n",
              "    90% {\n",
              "      border-color: transparent;\n",
              "      border-bottom-color: var(--fill-color);\n",
              "    }\n",
              "  }\n",
              "</style>\n",
              "\n",
              "  <script>\n",
              "    async function quickchart(key) {\n",
              "      const quickchartButtonEl =\n",
              "        document.querySelector('#' + key + ' button');\n",
              "      quickchartButtonEl.disabled = true;  // To prevent multiple clicks.\n",
              "      quickchartButtonEl.classList.add('colab-df-spinner');\n",
              "      try {\n",
              "        const charts = await google.colab.kernel.invokeFunction(\n",
              "            'suggestCharts', [key], {});\n",
              "      } catch (error) {\n",
              "        console.error('Error during call to suggestCharts:', error);\n",
              "      }\n",
              "      quickchartButtonEl.classList.remove('colab-df-spinner');\n",
              "      quickchartButtonEl.classList.add('colab-df-quickchart-complete');\n",
              "    }\n",
              "    (() => {\n",
              "      let quickchartButtonEl =\n",
              "        document.querySelector('#df-b83e0fb9-d0e4-47c1-8993-5be10a929336 button');\n",
              "      quickchartButtonEl.style.display =\n",
              "        google.colab.kernel.accessAllowed ? 'block' : 'none';\n",
              "    })();\n",
              "  </script>\n",
              "</div>\n",
              "    </div>\n",
              "  </div>\n"
            ]
          },
          "metadata": {},
          "execution_count": 4
        }
      ]
    },
    {
      "cell_type": "code",
      "source": [
        "file.isna().sum()"
      ],
      "metadata": {
        "colab": {
          "base_uri": "https://localhost:8080/"
        },
        "id": "jWm1_VqpzDGp",
        "outputId": "417aed7c-86a1-43c9-9674-e3fc0b16634e"
      },
      "execution_count": null,
      "outputs": [
        {
          "output_type": "execute_result",
          "data": {
            "text/plain": [
              "long_hair                    0\n",
              "forehead_width_cm            0\n",
              "forehead_height_cm           0\n",
              "nose_wide                    0\n",
              "nose_long                    0\n",
              "lips_thin                    0\n",
              "distance_nose_to_lip_long    0\n",
              "gender                       0\n",
              "dtype: int64"
            ]
          },
          "metadata": {},
          "execution_count": 5
        }
      ]
    },
    {
      "cell_type": "code",
      "source": [
        "file.columns"
      ],
      "metadata": {
        "colab": {
          "base_uri": "https://localhost:8080/"
        },
        "id": "fsAknwQCzQ04",
        "outputId": "7621fbb9-d174-410b-87cd-671eed281bb8"
      },
      "execution_count": null,
      "outputs": [
        {
          "output_type": "execute_result",
          "data": {
            "text/plain": [
              "Index(['long_hair', 'forehead_width_cm', 'forehead_height_cm', 'nose_wide',\n",
              "       'nose_long', 'lips_thin', 'distance_nose_to_lip_long', 'gender'],\n",
              "      dtype='object')"
            ]
          },
          "metadata": {},
          "execution_count": 6
        }
      ]
    },
    {
      "cell_type": "code",
      "source": [
        "imputer = SimpleImputer(strategy='most_frequent')\n",
        "numeric_features = ['long_hair', 'forehead_width_cm', 'forehead_height_cm', 'nose_wide','nose_long', 'lips_thin', 'distance_nose_to_lip_long', 'gender']\n",
        "file[numeric_features] = imputer.fit_transform(file[numeric_features])"
      ],
      "metadata": {
        "id": "DEGgDRsDzXUo"
      },
      "execution_count": null,
      "outputs": []
    },
    {
      "cell_type": "code",
      "source": [
        "file[numeric_features] = file[numeric_features].apply(pd.to_numeric, errors='coerce')\n"
      ],
      "metadata": {
        "id": "UeNDf-uczwWv"
      },
      "execution_count": null,
      "outputs": []
    },
    {
      "cell_type": "code",
      "source": [
        "file.dropna(inplace=True)"
      ],
      "metadata": {
        "id": "KLFKdXt1z52J"
      },
      "execution_count": null,
      "outputs": []
    },
    {
      "cell_type": "code",
      "source": [
        "features = file[numeric_features]"
      ],
      "metadata": {
        "id": "goVffX6az9ur"
      },
      "execution_count": null,
      "outputs": []
    },
    {
      "cell_type": "code",
      "source": [
        "numeric_features = ['long_hair', 'forehead_width_cm', 'forehead_height_cm', 'nose_wide','nose_long', 'lips_thin', 'distance_nose_to_lip_long', 'gender']"
      ],
      "metadata": {
        "id": "z9IWqADB0BSz"
      },
      "execution_count": null,
      "outputs": []
    },
    {
      "cell_type": "code",
      "source": [
        "scaler = StandardScaler()\n",
        "scaled_features = scaler.fit_transform(features)"
      ],
      "metadata": {
        "id": "bRlWPXJC0LnN"
      },
      "execution_count": null,
      "outputs": []
    },
    {
      "cell_type": "code",
      "source": [
        "kmeans = KMeans(n_clusters=3, random_state=42)\n",
        "kmeans_labels = kmeans.fit_predict(scaled_features)\n"
      ],
      "metadata": {
        "colab": {
          "base_uri": "https://localhost:8080/"
        },
        "id": "1CRKWQcM0Nm3",
        "outputId": "aaf224af-b8c0-4275-bdca-4a853df1f92f"
      },
      "execution_count": null,
      "outputs": [
        {
          "output_type": "stream",
          "name": "stderr",
          "text": [
            "/usr/local/lib/python3.10/dist-packages/sklearn/cluster/_kmeans.py:870: FutureWarning: The default value of `n_init` will change from 10 to 'auto' in 1.4. Set the value of `n_init` explicitly to suppress the warning\n",
            "  warnings.warn(\n"
          ]
        }
      ]
    },
    {
      "cell_type": "code",
      "source": [
        "from sklearn.cluster import AgglomerativeClustering\n",
        "\n",
        "hierarchical = AgglomerativeClustering(n_clusters=3)\n",
        "hierarchical_labels = hierarchical.fit_predict(scaled_features)"
      ],
      "metadata": {
        "id": "-XEhC7as0USu"
      },
      "execution_count": null,
      "outputs": []
    },
    {
      "cell_type": "code",
      "source": [
        "from sklearn.cluster import DBSCAN\n",
        "from sklearn.metrics import silhouette_score\n",
        "\n",
        "# Adjust DBSCAN parameters\n",
        "dbscan = DBSCAN(eps=1.0, min_samples=5)  # Adjust parameters accordingly\n",
        "dbscan_labels = dbscan.fit_predict(scaled_features)\n",
        "\n",
        "# Check for multiple clusters\n",
        "n_clusters = len(set(dbscan_labels)) - (1 if -1 in dbscan_labels else 0)\n",
        "\n",
        "if n_clusters > 1:\n",
        "    silhouette_dbscan = silhouette_score(scaled_features, dbscan_labels)\n",
        "    print(f\"DBSCAN Silhouette Score: {silhouette_dbscan}\")\n",
        "else:\n",
        "    print(\"DBSCAN resulted in only one cluster or noise points.\")\n"
      ],
      "metadata": {
        "colab": {
          "base_uri": "https://localhost:8080/"
        },
        "id": "iuYrrH8B0zDA",
        "outputId": "de15c72c-d069-4385-84e7-783d9510945b"
      },
      "execution_count": null,
      "outputs": [
        {
          "output_type": "stream",
          "name": "stdout",
          "text": [
            "DBSCAN Silhouette Score: 0.34004545794222907\n"
          ]
        }
      ]
    },
    {
      "cell_type": "code",
      "source": [
        "silhouette_kmeans = silhouette_score(scaled_features, kmeans_labels)\n",
        "silhouette_hierarchical = silhouette_score(scaled_features, hierarchical_labels)\n",
        "print(\"Silhouette Score - K-means:\", silhouette_kmeans)\n",
        "print(\"Silhouette Score - Hierarchical:\", silhouette_hierarchical)"
      ],
      "metadata": {
        "colab": {
          "base_uri": "https://localhost:8080/"
        },
        "id": "1jopszIo02UO",
        "outputId": "29126fc9-aff6-4831-c84e-cf008e294186"
      },
      "execution_count": null,
      "outputs": [
        {
          "output_type": "stream",
          "name": "stdout",
          "text": [
            "Silhouette Score - K-means: 0.39849039077126874\n",
            "Silhouette Score - Hierarchical: 0.3887326841275086\n"
          ]
        }
      ]
    },
    {
      "cell_type": "code",
      "source": [
        "sns.histplot(data=kmeans_labels, bins=len(set(kmeans_labels)), kde=False)\n",
        "plt.title('Histogram for K-means Clustering')\n",
        "plt.xlabel('Cluster Label')\n",
        "plt.ylabel('Frequency')\n",
        "plt.show()\n"
      ],
      "metadata": {
        "colab": {
          "base_uri": "https://localhost:8080/",
          "height": 472
        },
        "id": "2onxevt41Xgc",
        "outputId": "81522b87-881c-4863-8ded-e5368af50f2f"
      },
      "execution_count": null,
      "outputs": [
        {
          "output_type": "display_data",
          "data": {
            "text/plain": [
              "<Figure size 640x480 with 1 Axes>"
            ],
            "image/png": "[encoded data removed]"
          },
          "metadata": {}
        }
      ]
    },
    {
      "cell_type": "code",
      "source": [
        "sns.histplot(data=hierarchical_labels, bins=len(set(hierarchical_labels)), kde=False)\n",
        "plt.title('Histogram for Hierarchical Clustering')\n",
        "plt.xlabel('Cluster Label')\n",
        "plt.ylabel('Frequency')\n",
        "plt.show()\n"
      ],
      "metadata": {
        "colab": {
          "base_uri": "https://localhost:8080/",
          "height": 472
        },
        "id": "1foxP7zk1c1y",
        "outputId": "29f7c1db-d00f-4ddc-eb19-1ba8db4b1abb"
      },
      "execution_count": null,
      "outputs": [
        {
          "output_type": "display_data",
          "data": {
            "text/plain": [
              "<Figure size 640x480 with 1 Axes>"
            ],
            "image/png": "[encoded data removed]"
          },
          "metadata": {}
        }
      ]
    },
    {
      "cell_type": "code",
      "source": [
        "sns.histplot(data=dbscan_labels, bins=len(set(dbscan_labels)), kde=False)\n",
        "plt.title('Histogram for DBSCAN Clustering')\n",
        "plt.xlabel('Cluster Label')\n",
        "plt.ylabel('Frequency')\n",
        "plt.show()"
      ],
      "metadata": {
        "colab": {
          "base_uri": "https://localhost:8080/",
          "height": 472
        },
        "id": "Q37UuL6E1jlt",
        "outputId": "639c41e7-b777-415c-c0eb-aaf249001f51"
      },
      "execution_count": null,
      "outputs": [
        {
          "output_type": "display_data",
          "data": {
            "text/plain": [
              "<Figure size 640x480 with 1 Axes>"
            ],
            "image/png": "[encoded data removed]"
          },
          "metadata": {}
        }
      ]
    },
    {
      "cell_type": "code",
      "source": [
        "n_components = 3 # Adjust the number of components/clusters based on your analysis\n",
        "gmm = GaussianMixture(n_components=n_components, random_state=42)\n",
        "file['em_cluster'] = gmm.fit_predict(scaled_features)\n"
      ],
      "metadata": {
        "id": "qRTJkE501oWX"
      },
      "execution_count": null,
      "outputs": []
    },
    {
      "cell_type": "code",
      "source": [
        "silhouette_em = silhouette_score(scaled_features, file['em_cluster'])\n"
      ],
      "metadata": {
        "id": "0CzoLaz-1tFt"
      },
      "execution_count": null,
      "outputs": []
    },
    {
      "cell_type": "code",
      "source": [
        "print(\"\\nAfter Expectation-Maximization (GMM):\")\n",
        "print(f\"Silhouette Score (EM): {silhouette_em}\")\n",
        "print(file[['long_hair', 'forehead_width_cm', 'forehead_height_cm', 'nose_wide','nose_long', 'lips_thin', 'distance_nose_to_lip_long', 'gender']])"
      ],
      "metadata": {
        "colab": {
          "base_uri": "https://localhost:8080/"
        },
        "id": "H3UObMve1xZW",
        "outputId": "a83f8a05-b06d-42c3-e8d5-9308fe1a7c58"
      },
      "execution_count": null,
      "outputs": [
        {
          "output_type": "stream",
          "name": "stdout",
          "text": [
            "\n",
            "After Expectation-Maximization (GMM):\n",
            "Silhouette Score (EM): 0.3065178986514508\n",
            "      long_hair  forehead_width_cm  forehead_height_cm  nose_wide  nose_long  \\\n",
            "0           1.0               11.8                 6.1        1.0        0.0   \n",
            "1           0.0               14.0                 5.4        0.0        0.0   \n",
            "2           0.0               11.8                 6.3        1.0        1.0   \n",
            "3           0.0               14.4                 6.1        0.0        1.0   \n",
            "4           1.0               13.5                 5.9        0.0        0.0   \n",
            "...         ...                ...                 ...        ...        ...   \n",
            "4996        1.0               13.6                 5.1        0.0        0.0   \n",
            "4997        1.0               11.9                 5.4        0.0        0.0   \n",
            "4998        1.0               12.9                 5.7        0.0        0.0   \n",
            "4999        1.0               13.2                 6.2        0.0        0.0   \n",
            "5000        1.0               15.4                 5.4        1.0        1.0   \n",
            "\n",
            "      lips_thin  distance_nose_to_lip_long  gender  \n",
            "0           1.0                        1.0     1.0  \n",
            "1           1.0                        0.0     0.0  \n",
            "2           1.0                        1.0     1.0  \n",
            "3           1.0                        1.0     1.0  \n",
            "4           0.0                        0.0     0.0  \n",
            "...         ...                        ...     ...  \n",
            "4996        0.0                        0.0     0.0  \n",
            "4997        0.0                        0.0     0.0  \n",
            "4998        0.0                        0.0     0.0  \n",
            "4999        0.0                        0.0     0.0  \n",
            "5000        1.0                        1.0     1.0  \n",
            "\n",
            "[5001 rows x 8 columns]\n"
          ]
        }
      ]
    },
    {
      "cell_type": "code",
      "source": [],
      "metadata": {
        "id": "qAClaTWv2B9s"
      },
      "execution_count": null,
      "outputs": []
    },
    {
      "cell_type": "code",
      "source": [],
      "metadata": {
        "id": "tZLNa0552wD2"
      },
      "execution_count": null,
      "outputs": []
    }
  ]
}