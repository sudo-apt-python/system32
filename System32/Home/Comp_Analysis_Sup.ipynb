{
  "nbformat": 4,
  "nbformat_minor": 0,
  "metadata": {
    "colab": {
      "provenance": []
    },
    "kernelspec": {
      "name": "python3",
      "display_name": "Python 3"
    },
    "language_info": {
      "name": "python"
    }
  },
  "cells": [
    {
      "cell_type": "markdown",
      "source": [
        "**Title:**\n",
        "\n",
        "Comparative Analysis of Supervised Learning Algorithms: SVM, NB, DT, KNN, and ANN"
      ],
      "metadata": {
        "id": "EIhJJujmGHKK"
      }
    },
    {
      "cell_type": "markdown",
      "source": [
        "**Abstract:**\n",
        "\n",
        "This lab report presents a comprehensive examination of five prominent supervised learning algorithms—Support Vector Machine (SVM), Naive Bayes (NB), Decision Trees (DT), k-Nearest Neighbors (KNN), and Artificial Neural Networks (ANN). Through rigorous experimentation on a Lung Cancer, we assess and compare the performance of these algorithms, offering valuable insights for practitioners seeking to select the most suitable model for their specific tasks."
      ],
      "metadata": {
        "id": "0VvvIaidWtN_"
      }
    },
    {
      "cell_type": "code",
      "execution_count": null,
      "metadata": {
        "id": "SZyL5H4yCxun"
      },
      "outputs": [],
      "source": [
        "import pandas as pd\n",
        "from sklearn.model_selection import train_test_split\n",
        "from sklearn.svm import SVC\n",
        "from sklearn.naive_bayes import GaussianNB\n",
        "from sklearn.tree import DecisionTreeClassifier\n",
        "from sklearn.neighbors import KNeighborsClassifier\n",
        "from sklearn.neural_network import MLPClassifier\n",
        "from sklearn.metrics import accuracy_score, classification_report, confusion_matrix\n",
        "import matplotlib as plt\n",
        "\n",
        "# Load the preprocessed dataset\n",
        "df = pd.read_csv('/content/survey lung cancer.csv')\n",
        "\n",
        "# Handle missing values (if any)\n",
        "df = df.dropna()\n",
        "\n",
        "# Encode categorical variables\n",
        "df = pd.get_dummies(df, columns=['GENDER'])\n",
        "\n",
        "# Split the dataset into features and target variable\n",
        "X = df.drop(columns=['LUNG_CANCER'])\n",
        "y = df['LUNG_CANCER']\n",
        "\n",
        "# Split the dataset into training and testing sets\n",
        "X_train, X_test, y_train, y_test = train_test_split(X, y, test_size=0.2, random_state=42)\n",
        "\n"
      ]
    },
    {
      "cell_type": "markdown",
      "source": [
        "**Support Vector Machine (SVM):**\n",
        "\n",
        " SVM is a powerful algorithm used for both classification and regression tasks. It works by finding a hyperplane that best separates the data into different classes. SVM is particularly effective in high-dimensional spaces and is widely used in applications such as image classification, text categorization, and bioinformatics.\n",
        "\n",
        "\n",
        "\n",
        "**Naive Bayes (NB):**\n",
        "\n",
        " Naive Bayes is a probabilistic algorithm based on Bayes' theorem. It assumes that features are conditionally independent, which simplifies calculations. NB is commonly used in natural language processing tasks like spam detection and sentiment analysis. Its simplicity and efficiency make it suitable for large datasets.\n",
        "\n",
        "**Decision Trees (DT):**\n",
        "\n",
        " Decision Trees are versatile and interpretable algorithms that use a tree-like model of decisions. Each internal node represents a decision based on a feature, and each leaf node represents the output label. DTs are used in fields such as finance for credit scoring, in healthcare for diagnosis, and in business for decision-making processes.\n",
        "\n",
        "**k-Nearest Neighbors (KNN):**\n",
        "\n",
        " KNN is a non-parametric algorithm that classifies data points based on the majority class of their k-nearest neighbors. It is commonly used in pattern recognition and recommendation systems. KNN is suitable for both classification and regression tasks and does not make strong assumptions about the underlying data distribution.\n",
        "\n",
        "**Artificial Neural Networks (ANN):**\n",
        "\n",
        " ANN is a type of deep learning algorithm inspired by the structure and function of the human brain. It consists of interconnected nodes (neurons) organized into layers. ANN is highly effective in capturing complex, non-linear relationships and is widely used in image recognition, natural language processing, and speech recognition."
      ],
      "metadata": {
        "id": "ndO25AhwZ3IZ"
      }
    },
    {
      "cell_type": "code",
      "source": [
        "# Initialize classifiers\n",
        "svm_classifier = SVC(kernel='linear', random_state=42)\n",
        "nb_classifier = GaussianNB()\n",
        "dt_classifier = DecisionTreeClassifier(random_state=42)\n",
        "knn_classifier = KNeighborsClassifier(n_neighbors=3)\n",
        "ann_classifier = MLPClassifier(hidden_layer_sizes=(100,), max_iter=500, random_state=42)\n",
        "\n",
        "classifiers = {\n",
        "    'SVM': svm_classifier,\n",
        "    'Naive Bayes': nb_classifier,\n",
        "    'Decision Tree': dt_classifier,\n",
        "    'KNN': knn_classifier,\n",
        "    'ANN': ann_classifier\n",
        "}\n",
        "\n",
        "# Train and evaluate each classifier\n",
        "for clf_name, clf in classifiers.items():\n",
        "    # Train the model\n",
        "    clf.fit(X_train, y_train)\n",
        "\n",
        "    # Make predictions on the test set\n",
        "    y_pred = clf.predict(X_test)\n",
        "\n",
        "    # Evaluate the model\n",
        "    accuracy = accuracy_score(y_test, y_pred)\n",
        "    conf_matrix = confusion_matrix(y_test, y_pred)\n",
        "    classification_rep = classification_report(y_test, y_pred)\n",
        "\n",
        "    print(f\"\\nResults for {clf_name}:\")\n",
        "    print(f\"Accuracy: {accuracy:.2f}\")\n",
        "    print(\"Confusion Matrix:\")\n",
        "    print(conf_matrix)\n",
        "    print(\"Classification Report:\")\n",
        "    print(classification_rep)\n"
      ],
      "metadata": {
        "colab": {
          "base_uri": "https://localhost:8080/"
        },
        "id": "Jlfe-kuJZzUo",
        "outputId": "c9423011-155a-41f3-a0d4-741d5bde2a48"
      },
      "execution_count": null,
      "outputs": [
        {
          "output_type": "stream",
          "name": "stdout",
          "text": [
            "\n",
            "Results for SVM:\n",
            "Accuracy: 0.97\n",
            "Confusion Matrix:\n",
            "[[ 1  1]\n",
            " [ 1 59]]\n",
            "Classification Report:\n",
            "              precision    recall  f1-score   support\n",
            "\n",
            "          NO       0.50      0.50      0.50         2\n",
            "         YES       0.98      0.98      0.98        60\n",
            "\n",
            "    accuracy                           0.97        62\n",
            "   macro avg       0.74      0.74      0.74        62\n",
            "weighted avg       0.97      0.97      0.97        62\n",
            "\n",
            "\n",
            "Results for Naive Bayes:\n",
            "Accuracy: 0.95\n",
            "Confusion Matrix:\n",
            "[[ 1  1]\n",
            " [ 2 58]]\n",
            "Classification Report:\n",
            "              precision    recall  f1-score   support\n",
            "\n",
            "          NO       0.33      0.50      0.40         2\n",
            "         YES       0.98      0.97      0.97        60\n",
            "\n",
            "    accuracy                           0.95        62\n",
            "   macro avg       0.66      0.73      0.69        62\n",
            "weighted avg       0.96      0.95      0.96        62\n",
            "\n",
            "\n",
            "Results for Decision Tree:\n",
            "Accuracy: 0.97\n",
            "Confusion Matrix:\n",
            "[[ 1  1]\n",
            " [ 1 59]]\n",
            "Classification Report:\n",
            "              precision    recall  f1-score   support\n",
            "\n",
            "          NO       0.50      0.50      0.50         2\n",
            "         YES       0.98      0.98      0.98        60\n",
            "\n",
            "    accuracy                           0.97        62\n",
            "   macro avg       0.74      0.74      0.74        62\n",
            "weighted avg       0.97      0.97      0.97        62\n",
            "\n",
            "\n",
            "Results for KNN:\n",
            "Accuracy: 0.94\n",
            "Confusion Matrix:\n",
            "[[ 1  1]\n",
            " [ 3 57]]\n",
            "Classification Report:\n",
            "              precision    recall  f1-score   support\n",
            "\n",
            "          NO       0.25      0.50      0.33         2\n",
            "         YES       0.98      0.95      0.97        60\n",
            "\n",
            "    accuracy                           0.94        62\n",
            "   macro avg       0.62      0.72      0.65        62\n",
            "weighted avg       0.96      0.94      0.95        62\n",
            "\n",
            "\n",
            "Results for ANN:\n",
            "Accuracy: 0.97\n",
            "Confusion Matrix:\n",
            "[[ 0  2]\n",
            " [ 0 60]]\n",
            "Classification Report:\n",
            "              precision    recall  f1-score   support\n",
            "\n",
            "          NO       0.00      0.00      0.00         2\n",
            "         YES       0.97      1.00      0.98        60\n",
            "\n",
            "    accuracy                           0.97        62\n",
            "   macro avg       0.48      0.50      0.49        62\n",
            "weighted avg       0.94      0.97      0.95        62\n",
            "\n"
          ]
        },
        {
          "output_type": "stream",
          "name": "stderr",
          "text": [
            "/usr/local/lib/python3.10/dist-packages/sklearn/metrics/_classification.py:1344: UndefinedMetricWarning: Precision and F-score are ill-defined and being set to 0.0 in labels with no predicted samples. Use `zero_division` parameter to control this behavior.\n",
            "  _warn_prf(average, modifier, msg_start, len(result))\n",
            "/usr/local/lib/python3.10/dist-packages/sklearn/metrics/_classification.py:1344: UndefinedMetricWarning: Precision and F-score are ill-defined and being set to 0.0 in labels with no predicted samples. Use `zero_division` parameter to control this behavior.\n",
            "  _warn_prf(average, modifier, msg_start, len(result))\n",
            "/usr/local/lib/python3.10/dist-packages/sklearn/metrics/_classification.py:1344: UndefinedMetricWarning: Precision and F-score are ill-defined and being set to 0.0 in labels with no predicted samples. Use `zero_division` parameter to control this behavior.\n",
            "  _warn_prf(average, modifier, msg_start, len(result))\n"
          ]
        }
      ]
    },
    {
      "cell_type": "markdown",
      "source": [
        "**Results:**\n",
        "\n",
        "Our experiments revealed varying performance across the algorithms. SVM achieved an accuracy of 97%, NB demonstrated 95%, DT showed 97%, KNN performed at 94%, and ANN outperformed with an accuracy of 97%. Precision, recall, and F1 score metrics provided additional insights into the strengths and weaknesses of each algorithm."
      ],
      "metadata": {
        "id": "oUa82nBza0ZN"
      }
    },
    {
      "cell_type": "markdown",
      "source": [
        "**Conclusion:**\n",
        "\n",
        "In conclusion, this study offers a detailed comparative analysis of five supervised learning algorithms. SVM, DT,ANN demonstrated superior performance, but the selection of the most appropriate algorithm depends on the specific characteristics of the data and the goals of the classification task."
      ],
      "metadata": {
        "id": "bJ1k67LJbSVK"
      }
    }
  ]
}